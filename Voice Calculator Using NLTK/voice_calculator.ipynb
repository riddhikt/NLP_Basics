{
 "cells": [
  {
   "cell_type": "markdown",
   "metadata": {},
   "source": [
    "### Voice Calculator"
   ]
  },
  {
   "cell_type": "code",
   "execution_count": 30,
   "metadata": {},
   "outputs": [
    {
     "name": "stdout",
     "output_type": "stream",
     "text": [
      "Your speech_recognition version is: 3.8.1\n"
     ]
    }
   ],
   "source": [
    "import operator\n",
    "import speech_recognition as s_r\n",
    "print(\"Your speech_recognition version is: \"+s_r.__version__)\n",
    "import pyttsx3\n",
    "engine = pyttsx3.init() \n",
    "engine.setProperty('rate', 110)     # setting up new voice rate"
   ]
  },
  {
   "cell_type": "code",
   "execution_count": 31,
   "metadata": {},
   "outputs": [],
   "source": [
    "def get_operator_fn(op): #you can add more operator phrases here\n",
    "    return {\n",
    "        '+' : operator.add,\n",
    "        '-' : operator.sub,\n",
    "        'x' : operator.mul,\n",
    "        'divide' :operator.__truediv__,\n",
    "        'divided' :operator.__truediv__,\n",
    "        'Mod' : operator.mod,\n",
    "        'mod' : operator.mod,\n",
    "        '^' : operator.xor,\n",
    "        }[op]"
   ]
  },
  {
   "cell_type": "code",
   "execution_count": 32,
   "metadata": {},
   "outputs": [],
   "source": [
    "def eval_binary_expr(op1, oper, op2):\n",
    "    op1,op2 = int(op1), int(op2)\n",
    "    return get_operator_fn(oper)(op1, op2)"
   ]
  },
  {
   "cell_type": "code",
   "execution_count": 52,
   "metadata": {},
   "outputs": [
    {
     "name": "stdout",
     "output_type": "stream",
     "text": [
      "Say what you want to calculate, example: 3 plus 3\n",
      "12 divide 60\n"
     ]
    }
   ],
   "source": [
    "r = s_r.Recognizer()\n",
    "my_mic_device = s_r.Microphone(device_index=1)\n",
    "with my_mic_device as source:\n",
    "    print(\"Say what you want to calculate, example: 3 plus 3\")\n",
    "    engine.say(\"Say what you want to calculate\")\n",
    "    engine.runAndWait()\n",
    "    r.adjust_for_ambient_noise(source)\n",
    "    audio = r.listen(source)\n",
    "my_string=r.recognize_google(audio)\n",
    "print(my_string)"
   ]
  },
  {
   "cell_type": "code",
   "execution_count": 53,
   "metadata": {},
   "outputs": [
    {
     "name": "stdout",
     "output_type": "stream",
     "text": [
      "0.2\n"
     ]
    }
   ],
   "source": [
    "\n",
    "try:\n",
    "    ans=eval_binary_expr(*(my_string.split()))\n",
    "    print(ans)\n",
    "    engine.say(\"the answer is\"+str(ans))\n",
    "    engine.runAndWait()\n",
    "except TypeError:\n",
    "    engine.say(\"Say a valid Expression\")\n",
    "    engine.runAndWait()\n",
    "except ZeroDivisionError:\n",
    "    engine.say(\"Hey, you cannot divide a number by zero\")\n",
    "    engine.runAndWait()\n",
    "except:\n",
    "    engine.say(\"Something went wrong,please say again\")\n",
    "    engine.runAndWait()\n",
    "    \n"
   ]
  },
  {
   "cell_type": "code",
   "execution_count": null,
   "metadata": {},
   "outputs": [],
   "source": [
    "\n"
   ]
  },
  {
   "cell_type": "code",
   "execution_count": null,
   "metadata": {},
   "outputs": [],
   "source": []
  }
 ],
 "metadata": {
  "kernelspec": {
   "display_name": "Python 3",
   "language": "python",
   "name": "python3"
  },
  "language_info": {
   "codemirror_mode": {
    "name": "ipython",
    "version": 3
   },
   "file_extension": ".py",
   "mimetype": "text/x-python",
   "name": "python",
   "nbconvert_exporter": "python",
   "pygments_lexer": "ipython3",
   "version": "3.7.4"
  }
 },
 "nbformat": 4,
 "nbformat_minor": 4
}
