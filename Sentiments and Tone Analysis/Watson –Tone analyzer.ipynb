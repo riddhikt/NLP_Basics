{
 "cells": [
  {
   "cell_type": "markdown",
   "metadata": {},
   "source": [
    "##  Watson –Tone analyzer\n"
   ]
  },
  {
   "cell_type": "code",
   "execution_count": null,
   "metadata": {},
   "outputs": [],
   "source": [
    "#pip install --upgrade \"ibm-watson>=4.6.0\""
   ]
  },
  {
   "cell_type": "code",
   "execution_count": 2,
   "metadata": {},
   "outputs": [
    {
     "name": "stdout",
     "output_type": "stream",
     "text": [
      "{\n",
      "  \"document_tone\": {\n",
      "    \"tones\": [\n",
      "      {\n",
      "        \"score\": 0.540216,\n",
      "        \"tone_id\": \"joy\",\n",
      "        \"tone_name\": \"Joy\"\n",
      "      },\n",
      "      {\n",
      "        \"score\": 0.773514,\n",
      "        \"tone_id\": \"analytical\",\n",
      "        \"tone_name\": \"Analytical\"\n",
      "      },\n",
      "      {\n",
      "        \"score\": 0.763553,\n",
      "        \"tone_id\": \"confident\",\n",
      "        \"tone_name\": \"Confident\"\n",
      "      }\n",
      "    ]\n",
      "  }\n",
      "}\n"
     ]
    }
   ],
   "source": [
    "import json\n",
    "from ibm_watson import ToneAnalyzerV3\n",
    "from ibm_cloud_sdk_core.authenticators import IAMAuthenticator\n",
    "\n",
    "authenticator = IAMAuthenticator('INSERT YOUR KEY HERE')\n",
    "tone_analyzer = ToneAnalyzerV3(\n",
    "    version='2017-09-21',\n",
    "    authenticator=authenticator\n",
    ")\n",
    "\n",
    "tone_analyzer.set_service_url('INSERT YOUR URL HERE')\n",
    "\n",
    "text = 'I was very happy after meeting my best friend after long time' \\\n",
    "       'After i met him i came to know that he was very sad due to his result' \n",
    "\n",
    "tone_analysis = tone_analyzer.tone(\n",
    "    {'text': text},\n",
    "    content_type='application/json'\n",
    ").get_result()\n",
    "print(json.dumps(tone_analysis, indent=2))"
   ]
  },
  {
   "cell_type": "code",
   "execution_count": 5,
   "metadata": {},
   "outputs": [
    {
     "name": "stdout",
     "output_type": "stream",
     "text": [
      "{\n",
      "  \"utterances_tone\": [\n",
      "    {\n",
      "      \"utterance_id\": 0,\n",
      "      \"utterance_text\": \"Hi Jason, it's great to see you again.\",\n",
      "      \"tones\": [\n",
      "        {\n",
      "          \"score\": 0.851993,\n",
      "          \"tone_id\": \"excited\",\n",
      "          \"tone_name\": \"Excited\"\n",
      "        },\n",
      "        {\n",
      "          \"score\": 0.80124,\n",
      "          \"tone_id\": \"polite\",\n",
      "          \"tone_name\": \"Polite\"\n",
      "        }\n",
      "      ]\n",
      "    },\n",
      "    {\n",
      "      \"utterance_id\": 1,\n",
      "      \"utterance_text\": \"Wow, it's great seeing you,  How long has it been? It most be more than 6 months. I'm doing good. How about you?\",\n",
      "      \"tones\": [\n",
      "        {\n",
      "          \"score\": 0.873422,\n",
      "          \"tone_id\": \"excited\",\n",
      "          \"tone_name\": \"Excited\"\n",
      "        }\n",
      "      ]\n",
      "    },\n",
      "    {\n",
      "      \"utterance_id\": 2,\n",
      "      \"utterance_text\": \"Not too bad.\",\n",
      "      \"tones\": []\n",
      "    },\n",
      "    {\n",
      "      \"utterance_id\": 3,\n",
      "      \"utterance_text\": \" What movie are you and the family going to see?\",\n",
      "      \"tones\": []\n",
      "    },\n",
      "    {\n",
      "      \"utterance_id\": 4,\n",
      "      \"utterance_text\": \"I came here to see the Simpsons movie. How about you?\",\n",
      "      \"tones\": []\n",
      "    },\n",
      "    {\n",
      "      \"utterance_id\": 5,\n",
      "      \"utterance_text\": \"I'm going to watch Terminator 4.\",\n",
      "      \"tones\": []\n",
      "    }\n",
      "  ]\n",
      "}\n"
     ]
    }
   ],
   "source": [
    "import json\n",
    "from ibm_watson import ToneAnalyzerV3\n",
    "from ibm_cloud_sdk_core.authenticators import IAMAuthenticator\n",
    "\n",
    "authenticator = IAMAuthenticator('nPZbeitGFIrvsYhLM_EMM3HsyE5-QruQsLgL99Mk0be3')\n",
    "tone_analyzer = ToneAnalyzerV3(\n",
    "    version='2017-09-21',\n",
    "    authenticator=authenticator\n",
    ")\n",
    "\n",
    "tone_analyzer.set_service_url('https://api.eu-gb.tone-analyzer.watson.cloud.ibm.com/instances/d05a500c-3edf-4bd2-9be1-7415200d514b')\n",
    "\n",
    "utterances = [\n",
    "    {\n",
    "        \"text\": \"Hi Jason, it's great to see you again.\",\n",
    "        \"user\": \"Bob\"\n",
    "    },\n",
    "    {\n",
    "        \"text\": \"Wow, it's great seeing you,  How long has it been? It most be more than 6 months. I'm doing good. How about you?\",\n",
    "        \"user\": \"Jason\"\n",
    "    },\n",
    "    {\n",
    "        \"text\": \"Not too bad.\",\n",
    "        \"user\": \"Bob\"\n",
    "    },\n",
    "    {\n",
    "        \"text\": \" What movie are you and the family going to see?\",\n",
    "        \"user\": \"Jason\"\n",
    "    },\n",
    "    {\n",
    "        \"text\": \"I came here to see the Simpsons movie. How about you?\",\n",
    "        \"user\": \"Bob\"\n",
    "    },\n",
    "    {\n",
    "        \"text\": \"I'm going to watch Terminator 4.\",\n",
    "        \"user\": \"Jason\"\n",
    "    }\n",
    "]\n",
    "\n",
    "\n",
    "\n",
    "utterance_analyses = tone_analyzer.tone_chat(utterances).get_result()\n",
    "print(json.dumps(utterance_analyses, indent=2))"
   ]
  },
  {
   "cell_type": "code",
   "execution_count": null,
   "metadata": {},
   "outputs": [],
   "source": []
  }
 ],
 "metadata": {
  "kernelspec": {
   "display_name": "Python 3",
   "language": "python",
   "name": "python3"
  },
  "language_info": {
   "codemirror_mode": {
    "name": "ipython",
    "version": 3
   },
   "file_extension": ".py",
   "mimetype": "text/x-python",
   "name": "python",
   "nbconvert_exporter": "python",
   "pygments_lexer": "ipython3",
   "version": "3.7.4"
  }
 },
 "nbformat": 4,
 "nbformat_minor": 4
}
