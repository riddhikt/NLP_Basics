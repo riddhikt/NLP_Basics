{
 "cells": [
  {
   "cell_type": "markdown",
   "metadata": {},
   "source": [
    "### Text to Speech using pyttsx3"
   ]
  },
  {
   "cell_type": "code",
   "execution_count": 3,
   "metadata": {},
   "outputs": [
    {
     "name": "stdout",
     "output_type": "stream",
     "text": [
      "Your speech_recognition version is: 3.8.1\n"
     ]
    }
   ],
   "source": [
    "import operator\n",
    "import speech_recognition as s_r\n",
    "print(\"Your speech_recognition version is: \"+s_r.__version__)\n",
    "import pyttsx3\n",
    "engine = pyttsx3.init() \n",
    "engine.setProperty('rate', 110)     # setting up new voice rate"
   ]
  },
  {
   "cell_type": "code",
   "execution_count": 9,
   "metadata": {},
   "outputs": [
    {
     "name": "stdout",
     "output_type": "stream",
     "text": [
      "Say Something\n",
      "world\n"
     ]
    }
   ],
   "source": [
    "r = s_r.Recognizer()\n",
    "my_mic_device = s_r.Microphone(device_index=1)\n",
    "with my_mic_device as source:\n",
    "    print(\"Say Something\")\n",
    "    engine.say(\"Say Something\")\n",
    "    engine.runAndWait()\n",
    "    r.adjust_for_ambient_noise(source)\n",
    "    audio = r.listen(source)\n",
    "my_string=r.recognize_google(audio)\n",
    "print(my_string)"
   ]
  },
  {
   "cell_type": "code",
   "execution_count": 10,
   "metadata": {},
   "outputs": [
    {
     "name": "stdout",
     "output_type": "stream",
     "text": [
      "world\n"
     ]
    }
   ],
   "source": [
    "\n",
    "try:\n",
    "    print(my_string)\n",
    "    engine.say(\"did you say?\" + my_string)\n",
    "    engine.runAndWait()\n",
    "except:\n",
    "    engine.say(\"Something went wrong,please say again\")\n",
    "    engine.runAndWait()\n",
    "    \n",
    "\n",
    "    "
   ]
  },
  {
   "cell_type": "code",
   "execution_count": null,
   "metadata": {},
   "outputs": [],
   "source": []
  }
 ],
 "metadata": {
  "kernelspec": {
   "display_name": "Python 3",
   "language": "python",
   "name": "python3"
  },
  "language_info": {
   "codemirror_mode": {
    "name": "ipython",
    "version": 3
   },
   "file_extension": ".py",
   "mimetype": "text/x-python",
   "name": "python",
   "nbconvert_exporter": "python",
   "pygments_lexer": "ipython3",
   "version": "3.7.4"
  }
 },
 "nbformat": 4,
 "nbformat_minor": 4
}
