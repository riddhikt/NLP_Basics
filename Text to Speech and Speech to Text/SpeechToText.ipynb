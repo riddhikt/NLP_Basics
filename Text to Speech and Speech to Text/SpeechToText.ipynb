{
 "cells": [
  {
   "cell_type": "markdown",
   "metadata": {},
   "source": [
    "### Speech to Text using IBM Watson API"
   ]
  },
  {
   "cell_type": "code",
   "execution_count": 20,
   "metadata": {},
   "outputs": [
    {
     "name": "stdout",
     "output_type": "stream",
     "text": [
      "you can back on a childhood food with the vents and memories I find it rather difficult to fix 1 that leaves me with the fabled woman fuzzy feelings $100 123457 \n"
     ]
    }
   ],
   "source": [
    "import json \n",
    "from os.path import join, dirname \n",
    "from ibm_watson import SpeechToTextV1 \n",
    "from ibm_watson.websocket import RecognizeCallback, AudioSource \n",
    "from ibm_cloud_sdk_core.authenticators import IAMAuthenticator \n",
    "\n",
    "\n",
    "# Insert API Key in place of \n",
    "# 'YOUR UNIQUE API KEY' \n",
    "authenticator = IAMAuthenticator('INSERT YOUR KEY HERE') \n",
    "service = SpeechToTextV1(authenticator = authenticator) \n",
    "\n",
    "#Insert URL in place of 'API_URL' \n",
    "service.set_service_url('INSERT YOUR URL HERE') \n",
    "\n",
    "# Insert local mp3 file path in \n",
    "# place of 'LOCAL FILE PATH' \n",
    "with open(join(dirname('__file__'), r'test1.mp3'), \n",
    "\t\t'rb') as audio_file: \n",
    "\t\n",
    "\t\tdic = json.loads( \n",
    "\t\t\t\tjson.dumps( \n",
    "\t\t\t\t\tservice.recognize( \n",
    "                        smart_formatting=True,\n",
    "\t\t\t\t\t\taudio=audio_file, \n",
    "\t\t\t\t\t\tcontent_type='audio/mp3', \n",
    "\t\t\t\t\t\tmodel='en-US_NarrowbandModel', \n",
    "\t\t\t\t\tcontinuous=True).get_result(), indent=2)) \n",
    "\n",
    "# Stores the transcribed text \n",
    "str = \"\" \n",
    "\n",
    "while bool(dic.get('results')): \n",
    "\tstr = dic.get('results').pop().get('alternatives').pop().get('transcript')+str[:] \n",
    "\t\n",
    "print(str) \n"
   ]
  },
  {
   "cell_type": "code",
   "execution_count": 21,
   "metadata": {},
   "outputs": [
    {
     "name": "stdout",
     "output_type": "stream",
     "text": [
      "you can back on a childhood food with the vents and memories I find it rather difficult to fix 1 that leaves me with the fabled woman fuzzy feelings $100 123457 \n"
     ]
    }
   ],
   "source": [
    "import json \n",
    "from os.path import join, dirname \n",
    "from ibm_watson import SpeechToTextV1 \n",
    "from ibm_watson.websocket import RecognizeCallback, AudioSource \n",
    "from ibm_cloud_sdk_core.authenticators import IAMAuthenticator \n",
    "\n",
    "\n",
    "# Insert API Key in place of \n",
    "# 'YOUR UNIQUE API KEY' \n",
    "authenticator = IAMAuthenticator('nVcuC4Wpo20LnpDqNp_jHSc-N_j7mPDDynn4IRmnkMSD') \n",
    "service = SpeechToTextV1(authenticator = authenticator) \n",
    "\n",
    "#Insert URL in place of 'API_URL' \n",
    "service.set_service_url('https://api.eu-gb.speech-to-text.watson.cloud.ibm.com/instances/e594218c-7976-4d1a-8331-91ee33405adc') \n",
    "\n",
    "# Insert local mp3 file path in \n",
    "# place of 'LOCAL FILE PATH' \n",
    "with open(join(dirname('__file__'), r'test1.wav'), \n",
    "\t\t'rb') as audio_file: \n",
    "\t\n",
    "\t\tdic = json.loads( \n",
    "\t\t\t\tjson.dumps( \n",
    "\t\t\t\t\tservice.recognize( \n",
    "                        smart_formatting=True,\n",
    "\t\t\t\t\t\taudio=audio_file, \n",
    "\t\t\t\t\t\tcontent_type='audio/wav', \n",
    "\t\t\t\t\t\tmodel='en-US_NarrowbandModel', \n",
    "\t\t\t\t\tcontinuous=True).get_result(), indent=2)) \n",
    "\n",
    "# Stores the transcribed text \n",
    "str = \"\" \n",
    "\n",
    "while bool(dic.get('results')): \n",
    "\tstr = dic.get('results').pop().get('alternatives').pop().get('transcript')+str[:] \n",
    "\t\n",
    "print(str) \n"
   ]
  },
  {
   "cell_type": "code",
   "execution_count": null,
   "metadata": {},
   "outputs": [],
   "source": []
  }
 ],
 "metadata": {
  "kernelspec": {
   "display_name": "Python 3",
   "language": "python",
   "name": "python3"
  },
  "language_info": {
   "codemirror_mode": {
    "name": "ipython",
    "version": 3
   },
   "file_extension": ".py",
   "mimetype": "text/x-python",
   "name": "python",
   "nbconvert_exporter": "python",
   "pygments_lexer": "ipython3",
   "version": "3.7.4"
  }
 },
 "nbformat": 4,
 "nbformat_minor": 4
}
