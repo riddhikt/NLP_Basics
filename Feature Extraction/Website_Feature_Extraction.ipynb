{
 "cells": [
  {
   "cell_type": "markdown",
   "metadata": {},
   "source": [
    "## NLP Website Feature Extraction using IBM Watson API "
   ]
  },
  {
   "cell_type": "code",
   "execution_count": 2,
   "metadata": {},
   "outputs": [
    {
     "name": "stdout",
     "output_type": "stream",
     "text": [
      "{\n",
      "  \"usage\": {\n",
      "    \"text_units\": 2,\n",
      "    \"text_characters\": 15336,\n",
      "    \"features\": 1\n",
      "  },\n",
      "  \"retrieved_url\": \"https://mitwpu.edu.in/\",\n",
      "  \"language\": \"en\",\n",
      "  \"categories\": [\n",
      "    {\n",
      "      \"score\": 0.971248,\n",
      "      \"label\": \"/science/engineering\"\n",
      "    },\n",
      "    {\n",
      "      \"score\": 0.878459,\n",
      "      \"label\": \"/education/alumni and reunions\"\n",
      "    },\n",
      "    {\n",
      "      \"score\": 0.862872,\n",
      "      \"label\": \"/science/computer science\"\n",
      "    },\n",
      "    {\n",
      "      \"score\": 0.808773,\n",
      "      \"label\": \"/education/graduate school/college\"\n",
      "    },\n",
      "    {\n",
      "      \"score\": 0.77299,\n",
      "      \"label\": \"/education/studying business\"\n",
      "    }\n",
      "  ]\n",
      "}\n"
     ]
    }
   ],
   "source": [
    "import json\n",
    "from ibm_watson import NaturalLanguageUnderstandingV1\n",
    "from ibm_cloud_sdk_core.authenticators import IAMAuthenticator\n",
    "\n",
    "# Categories Features\n",
    "\n",
    "from ibm_watson.natural_language_understanding_v1 import Features, CategoriesOptions\n",
    "\n",
    "authenticator = IAMAuthenticator('INSERT YOUR KEY HERE')\n",
    "natural_language_understanding = NaturalLanguageUnderstandingV1(\n",
    "    version='2019-07-12',\n",
    "    authenticator=authenticator\n",
    ")\n",
    "\n",
    "natural_language_understanding.set_service_url('INSERT YOUR URL HERE')\n",
    "response = natural_language_understanding.analyze(\n",
    "    url='www.mitwpu.edu.in',\n",
    "    features=Features(categories=CategoriesOptions(limit=5))).get_result()\n",
    "\n",
    "print(json.dumps(response, indent=2))"
   ]
  },
  {
   "cell_type": "code",
   "execution_count": 3,
   "metadata": {},
   "outputs": [
    {
     "name": "stdout",
     "output_type": "stream",
     "text": [
      "{\n",
      "  \"usage\": {\n",
      "    \"text_units\": 2,\n",
      "    \"text_characters\": 15336,\n",
      "    \"features\": 1\n",
      "  },\n",
      "  \"retrieved_url\": \"https://mitwpu.edu.in/\",\n",
      "  \"language\": \"en\",\n",
      "  \"concepts\": [\n",
      "    {\n",
      "      \"text\": \"Academic degree\",\n",
      "      \"relevance\": 0.963111,\n",
      "      \"dbpedia_resource\": \"http://dbpedia.org/resource/Academic_degree\"\n",
      "    },\n",
      "    {\n",
      "      \"text\": \"Engineering\",\n",
      "      \"relevance\": 0.655268,\n",
      "      \"dbpedia_resource\": \"http://dbpedia.org/resource/Engineering\"\n",
      "    },\n",
      "    {\n",
      "      \"text\": \"Electrical engineering\",\n",
      "      \"relevance\": 0.58971,\n",
      "      \"dbpedia_resource\": \"http://dbpedia.org/resource/Electrical_engineering\"\n",
      "    }\n",
      "  ]\n",
      "}\n"
     ]
    }
   ],
   "source": [
    "# Concepts Features\n",
    "\n",
    "from ibm_watson.natural_language_understanding_v1 import Features, ConceptsOptions\n",
    " \n",
    "response = natural_language_understanding.analyze(\n",
    "    url='www.mitwpu.edu.in',\n",
    "    features=Features(concepts=ConceptsOptions(limit=3))).get_result()\n",
    "\n",
    "print(json.dumps(response, indent=2))"
   ]
  },
  {
   "cell_type": "code",
   "execution_count": 4,
   "metadata": {},
   "outputs": [
    {
     "name": "stdout",
     "output_type": "stream",
     "text": [
      "{\n",
      "  \"usage\": {\n",
      "    \"text_units\": 1,\n",
      "    \"text_characters\": 371,\n",
      "    \"features\": 1\n",
      "  },\n",
      "  \"language\": \"en\",\n",
      "  \"emotion\": {\n",
      "    \"targets\": [\n",
      "      {\n",
      "        \"text\": \"Science\",\n",
      "        \"emotion\": {\n",
      "          \"sadness\": 0.127974,\n",
      "          \"joy\": 0.595299,\n",
      "          \"fear\": 0.032478,\n",
      "          \"disgust\": 0.00761,\n",
      "          \"anger\": 0.007259\n",
      "        }\n",
      "      }\n",
      "    ],\n",
      "    \"document\": {\n",
      "      \"emotion\": {\n",
      "        \"sadness\": 0.174299,\n",
      "        \"joy\": 0.7121,\n",
      "        \"fear\": 0.049577,\n",
      "        \"disgust\": 0.003456,\n",
      "        \"anger\": 0.015958\n",
      "      }\n",
      "    }\n",
      "  }\n",
      "}\n"
     ]
    }
   ],
   "source": [
    "# Emotions Features\n",
    "from ibm_watson.natural_language_understanding_v1 import Features, EmotionOptions\n",
    "\n",
    "response = natural_language_understanding.analyze(\n",
    "    text=\"Science has contributed to all the sectors increased employment opportunities, saved millions of lives and has played a major role in a lot of industries. Science is very important for the growth and development of India. It even plays a key role in our daily lives. Every country should invest as much as possible in research and development for scientific technologies.\",\n",
    "    features=Features(emotion=EmotionOptions(targets=['Science','Students']))).get_result()\n",
    "\n",
    "print(json.dumps(response, indent=2))"
   ]
  },
  {
   "cell_type": "code",
   "execution_count": 5,
   "metadata": {},
   "outputs": [
    {
     "name": "stdout",
     "output_type": "stream",
     "text": [
      "{\n",
      "  \"usage\": {\n",
      "    \"text_units\": 1,\n",
      "    \"text_characters\": 3223,\n",
      "    \"features\": 1\n",
      "  },\n",
      "  \"retrieved_url\": \"https://www.cnn.com/\",\n",
      "  \"language\": \"en\",\n",
      "  \"entities\": [\n",
      "    {\n",
      "      \"type\": \"Company\",\n",
      "      \"text\": \"CNN\",\n",
      "      \"sentiment\": {\n",
      "        \"score\": 0.858806,\n",
      "        \"label\": \"positive\"\n",
      "      },\n",
      "      \"relevance\": 0.969919,\n",
      "      \"disambiguation\": {\n",
      "        \"subtype\": [\n",
      "          \"Broadcast\",\n",
      "          \"AwardWinner\",\n",
      "          \"RadioNetwork\",\n",
      "          \"TVNetwork\"\n",
      "        ],\n",
      "        \"name\": \"CNN\",\n",
      "        \"dbpedia_resource\": \"http://dbpedia.org/resource/CNN\"\n",
      "      },\n",
      "      \"count\": 18,\n",
      "      \"confidence\": 1\n",
      "    }\n",
      "  ]\n",
      "}\n"
     ]
    }
   ],
   "source": [
    "# Entities Features \n",
    "from ibm_watson.natural_language_understanding_v1 import Features, EntitiesOptions\n",
    "\n",
    "response = natural_language_understanding.analyze(\n",
    "    url='www.cnn.com',\n",
    "    features=Features(entities=EntitiesOptions(sentiment=True,limit=1))).get_result()\n",
    "\n",
    "print(json.dumps(response, indent=2))"
   ]
  },
  {
   "cell_type": "code",
   "execution_count": null,
   "metadata": {},
   "outputs": [],
   "source": []
  }
 ],
 "metadata": {
  "kernelspec": {
   "display_name": "Python 3",
   "language": "python",
   "name": "python3"
  },
  "language_info": {
   "codemirror_mode": {
    "name": "ipython",
    "version": 3
   },
   "file_extension": ".py",
   "mimetype": "text/x-python",
   "name": "python",
   "nbconvert_exporter": "python",
   "pygments_lexer": "ipython3",
   "version": "3.7.4"
  }
 },
 "nbformat": 4,
 "nbformat_minor": 4
}
